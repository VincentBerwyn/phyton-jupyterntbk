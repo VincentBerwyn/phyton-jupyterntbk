{
 "cells": [
  {
   "cell_type": "code",
   "execution_count": 41,
   "id": "e18031db-23d3-4946-9f5d-d05f192e67aa",
   "metadata": {},
   "outputs": [
    {
     "name": "stdout",
     "output_type": "stream",
     "text": [
      "Budi membeli celana sebanyak 3 dengan total Rp.300000\n",
      "Budi membeli baju sebanyak 5 dengan total Rp.1250000\n",
      "Budi membeli sepatu sebanyak 2 dengan total Rp.1000000\n",
      "Budi membeli kaos kaki sebanyak 10 dengan total Rp.500000\n",
      "Budi membeli topi sebanyak 4 dengan total Rp.120000\n",
      "Total belanjaan Budi adalah Rp.3170000\n"
     ]
    }
   ],
   "source": [
    "jumlah_barang = [3,5,2,10,4]\n",
    "harga_barang = [100000,250000,500000,50000,30000]\n",
    "\n",
    "for i in range (len(jumlah_barang)):\n",
    "    print (f\"Budi membeli {list_harga[i]} sebanyak {jumlah_barang[i]} dengan total Rp.{harga_barang[i]*jumlah_barang[i]}\")\n",
    "\n",
    "list_harga = [\"celana\",\"baju\",\"sepatu\",\"kaos kaki\",\"topi\"]\n",
    "total_belanja_budi = 0\n",
    "for i in list_harga :\n",
    "    if i == \"celana\" :\n",
    "        uang = 100000 * 3\n",
    "    elif i == \"baju\" :\n",
    "        uang = 250000 * 5\n",
    "    elif i == \"sepatu\" :\n",
    "        uang = 500000 * 2\n",
    "    elif i == \"kaos kaki\" :\n",
    "        uang = 50000 * 10\n",
    "    elif i == \"topi\" :\n",
    "        uang = 30000 * 4\n",
    "    total_belanja_budi += uang\n",
    "print (f\"Total belanjaan Budi adalah Rp.{total_belanja_budi}\")\n"
   ]
  },
  {
   "cell_type": "code",
   "execution_count": null,
   "id": "094b5d5b-8354-4955-9e12-52ff381173a8",
   "metadata": {},
   "outputs": [],
   "source": []
  }
 ],
 "metadata": {
  "kernelspec": {
   "display_name": "Python 3 (ipykernel)",
   "language": "python",
   "name": "python3"
  },
  "language_info": {
   "codemirror_mode": {
    "name": "ipython",
    "version": 3
   },
   "file_extension": ".py",
   "mimetype": "text/x-python",
   "name": "python",
   "nbconvert_exporter": "python",
   "pygments_lexer": "ipython3",
   "version": "3.12.4"
  }
 },
 "nbformat": 4,
 "nbformat_minor": 5
}
