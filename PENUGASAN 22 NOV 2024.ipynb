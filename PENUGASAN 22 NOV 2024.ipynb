{
 "cells": [
  {
   "cell_type": "code",
   "execution_count": 41,
   "id": "e18031db-23d3-4946-9f5d-d05f192e67aa",
   "metadata": {},
   "outputs": [
    {
     "name": "stdout",
     "output_type": "stream",
     "text": [
      "Budi membeli celana sebanyak 3 dengan total Rp.300000\n",
      "Budi membeli baju sebanyak 5 dengan total Rp.1250000\n",
      "Budi membeli sepatu sebanyak 2 dengan total Rp.1000000\n",
      "Budi membeli kaos kaki sebanyak 10 dengan total Rp.500000\n",
      "Budi membeli topi sebanyak 4 dengan total Rp.120000\n",
      "Total belanjaan Budi adalah Rp.3170000\n"
     ]
    }
   ],
   "source": [
    "jumlah_barang = [3,5,2,10,4]\n",
    "harga_barang = [100000,250000,500000,50000,30000]\n",
    "\n",
    "for i in range (len(jumlah_barang)):\n",
    "    print (f\"Budi membeli {list_harga[i]} sebanyak {jumlah_barang[i]} dengan total Rp.{harga_barang[i]*jumlah_barang[i]}\")\n",
    "\n",
    "list_harga = [\"celana\",\"baju\",\"sepatu\",\"kaos kaki\",\"topi\"]\n",
    "total_belanja_budi = 0\n",
    "for i in list_harga :\n",
    "    if i == \"celana\" :\n",
    "        uang = 100000 * 3\n",
    "    elif i == \"baju\" :\n",
    "        uang = 250000 * 5\n",
    "    elif i == \"sepatu\" :\n",
    "        uang = 500000 * 2\n",
    "    elif i == \"kaos kaki\" :\n",
    "        uang = 50000 * 10\n",
    "    elif i == \"topi\" :\n",
    "        uang = 30000 * 4\n",
    "    total_belanja_budi += uang\n",
    "print (f\"Total belanjaan Budi adalah Rp.{total_belanja_budi}\")\n"
   ]
  },
  {
   "cell_type": "code",
   "execution_count": 41,
   "id": "094b5d5b-8354-4955-9e12-52ff381173a8",
   "metadata": {},
   "outputs": [
    {
     "name": "stdout",
     "output_type": "stream",
     "text": [
      "Pendapatan dari Buku A : Rp.30000\n",
      "Pendapatan dari Buku B : Rp.120000\n",
      "Pendapatan dari Buku C : Rp.210000\n",
      "Pendapatan dari Buku D : Rp.400000\n",
      "Pendapatan dari Buku E : Rp.100000\n",
      "\n",
      "\n",
      "jumlah pendapatan Rp.860000\n",
      "maka rata rata penjualannya Rp.30714.285714285714\n"
     ]
    }
   ],
   "source": [
    "harga_satu = (10000,20000,30000,40000,50000)\n",
    "jumlah = (3,6,7,10,2)\n",
    "list = []\n",
    "buku = (\"Buku A\",\"Buku B\",\"Buku C\",\"Buku D\",\"Buku E\")\n",
    "for i in range (len(jumlah)):\n",
    "    print (f\"Pendapatan dari {buku[i]} : Rp.{jumlah[i]*harga_satu[i]}\")\n",
    "    list.append(jumlah[i]*harga_satu[i])\n",
    "print ('\\n')\n",
    "jumlah_pendapatan = 0\n",
    "for j in list :\n",
    "    jumlah_pendapatan += j\n",
    "print (f\"jumlah pendapatan Rp.{jumlah_pendapatan}\")\n",
    "rata_rata = jumlah_pendapatan / sum (jumlah)\n",
    "print (f\"maka rata rata penjualannya Rp.{rata_rata}\")"
   ]
  },
  {
   "cell_type": "code",
   "execution_count": null,
   "id": "9c9b30e1-55ea-488f-bca2-442476d2aca6",
   "metadata": {},
   "outputs": [],
   "source": []
  }
 ],
 "metadata": {
  "kernelspec": {
   "display_name": "Python 3 (ipykernel)",
   "language": "python",
   "name": "python3"
  },
  "language_info": {
   "codemirror_mode": {
    "name": "ipython",
    "version": 3
   },
   "file_extension": ".py",
   "mimetype": "text/x-python",
   "name": "python",
   "nbconvert_exporter": "python",
   "pygments_lexer": "ipython3",
   "version": "3.12.4"
  }
 },
 "nbformat": 4,
 "nbformat_minor": 5
}
